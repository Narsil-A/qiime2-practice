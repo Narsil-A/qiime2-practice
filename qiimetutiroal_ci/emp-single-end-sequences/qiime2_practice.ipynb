{
 "cells": [
  {
   "cell_type": "markdown",
   "metadata": {},
   "source": [
    "# QIIME 2 Tutorial \n",
    "### QIIME 2 is a powerful platform for microbial ecology analysis.\n",
    "\n",
    "### The use of QIIME 2 allows for detailed analysis of microbial communities, making it an essential tool for researchers studying microbial dynamics in clinical or environmental samples\n",
    "\n",
    "### The tutorial is structured to be completed within a Jupyter Notebook, offering an interactive and flexible platform for conducting bioinformatics analyses.\n",
    "\n",
    "### By following this tutorial, participants will gain hands-on experience with key techniques such as denoising sequencing data, performing diversity analyses, and conducting taxonomic classifications.\n",
    "\n",
    "### By the end of the tutorial, participants will be familiar with the core steps of microbial data analysis, providing them with insights into the composition and diversity of microbiota, similar to those studied in the paper \"The cervical microbiota of Hispanics living in Puerto Rico is nonoptimal regardless of HPV status\" \n",
    "\n",
    "https://journals.asm.org/doi/10.1128/msystems.00357-23#:~:text=However%2C%20no%20significant%20associations%20between,of%20a%20woman's%20physiological%20stage."
   ]
  },
  {
   "cell_type": "markdown",
   "metadata": {},
   "source": [
    "### 1. Import the Required QIIME 2 Libraries"
   ]
  },
  {
   "cell_type": "code",
   "execution_count": 9,
   "metadata": {},
   "outputs": [],
   "source": [
    "import os\n",
    "import qiime2\n",
    "from qiime2.plugins import dada2, feature_table, phylogeny, diversity, taxa, metadata\n",
    "\n",
    "# Useful for viewing visualizations directly in the notebook\n",
    "from qiime2 import Visualization"
   ]
  },
  {
   "cell_type": "code",
   "execution_count": 8,
   "metadata": {},
   "outputs": [
    {
     "name": "stdout",
     "output_type": "stream",
     "text": [
      "--2024-09-17 11:31:43--  https://docs.qiime2.org/2024.5/data/tutorials/moving-pictures/demux.qza\n",
      "Resolving docs.qiime2.org (docs.qiime2.org)... 172.67.186.144, 104.21.84.49\n",
      "Connecting to docs.qiime2.org (docs.qiime2.org)|172.67.186.144|:443... connected.\n",
      "HTTP request sent, awaiting response... 200 OK\n",
      "Length: 20604579 (20M) [application/octet-stream]\n",
      "Saving to: ‘demux.qza’\n",
      "\n",
      "demux.qza            47%[========>           ]   9.28M  10.1KB/s    in 7m 52s  \n",
      "\n",
      "2024-09-17 11:39:40 (20.2 KB/s) - Read error at byte 9731802/20604579 (Connection reset by peer). Retrying.\n",
      "\n",
      "--2024-09-17 11:39:41--  (try: 2)  https://docs.qiime2.org/2024.5/data/tutorials/moving-pictures/demux.qza\n",
      "Connecting to docs.qiime2.org (docs.qiime2.org)|172.67.186.144|:443... connected.\n",
      "Unable to establish SSL connection.\n"
     ]
    }
   ],
   "source": [
    "!wget -O demux.qza https://docs.qiime2.org/2024.5/data/tutorials/moving-pictures/demux.qza"
   ]
  },
  {
   "cell_type": "markdown",
   "metadata": {},
   "source": [
    "### 2. Load Data\n",
    "\n",
    "#### Load your data (the demultiplexed sequences and metadata file) into QIIME 2 artifacts\n"
   ]
  },
  {
   "cell_type": "code",
   "execution_count": 18,
   "metadata": {},
   "outputs": [
    {
     "name": "stdout",
     "output_type": "stream",
     "text": [
      "--2024-09-17 12:40:34--  https://data.qiime2.org/2024.5/tutorials/moving-pictures/sample_metadata.tsv\n",
      "Resolving data.qiime2.org (data.qiime2.org)... 54.200.1.12\n",
      "Connecting to data.qiime2.org (data.qiime2.org)|54.200.1.12|:443... connected.\n",
      "HTTP request sent, awaiting response... 302 FOUND\n",
      "Location: https://docs.google.com/spreadsheets/d/e/2PACX-1vTKz0BaPz69jai6JJEr04Wg9CNUHqXqwMINldi0CFCz8_IUWu9MOwRBErJ7ljMaP86vEa1rZ3AyKl_K/pub?gid=0&single=true&output=tsv [following]\n",
      "--2024-09-17 12:40:34--  https://docs.google.com/spreadsheets/d/e/2PACX-1vTKz0BaPz69jai6JJEr04Wg9CNUHqXqwMINldi0CFCz8_IUWu9MOwRBErJ7ljMaP86vEa1rZ3AyKl_K/pub?gid=0&single=true&output=tsv\n",
      "Resolving docs.google.com (docs.google.com)... 192.178.50.78\n",
      "Connecting to docs.google.com (docs.google.com)|192.178.50.78|:443... connected.\n",
      "HTTP request sent, awaiting response... 307 Temporary Redirect\n",
      "Location: https://doc-0o-60-sheets.googleusercontent.com/pub/54bogvaave6cua4cdnls17ksc4/7a70vupd17vsgl1no6jjku5gn4/1726590765000/105250506097979753968/*/e@2PACX-1vTKz0BaPz69jai6JJEr04Wg9CNUHqXqwMINldi0CFCz8_IUWu9MOwRBErJ7ljMaP86vEa1rZ3AyKl_K?gid=0&single=true&output=tsv [following]\n",
      "Warning: wildcards not supported in HTTP.\n",
      "--2024-09-17 12:40:36--  https://doc-0o-60-sheets.googleusercontent.com/pub/54bogvaave6cua4cdnls17ksc4/7a70vupd17vsgl1no6jjku5gn4/1726590765000/105250506097979753968/*/e@2PACX-1vTKz0BaPz69jai6JJEr04Wg9CNUHqXqwMINldi0CFCz8_IUWu9MOwRBErJ7ljMaP86vEa1rZ3AyKl_K?gid=0&single=true&output=tsv\n",
      "Resolving doc-0o-60-sheets.googleusercontent.com (doc-0o-60-sheets.googleusercontent.com)... 172.217.165.193\n",
      "Connecting to doc-0o-60-sheets.googleusercontent.com (doc-0o-60-sheets.googleusercontent.com)|172.217.165.193|:443... connected.\n",
      "HTTP request sent, awaiting response... 200 OK\n",
      "Length: unspecified [text/tab-separated-values]\n",
      "Saving to: ‘sample-metadata.tsv’\n",
      "\n",
      "sample-metadata.tsv     [ <=>                ]   2.04K  --.-KB/s    in 0.04s   \n",
      "\n",
      "2024-09-17 12:40:36 (50.3 KB/s) - ‘sample-metadata.tsv’ saved [2094]\n",
      "\n",
      "--2024-09-17 12:40:37--  https://data.qiime2.org/2024.5/tutorials/moving-pictures/emp-single-end-sequences/barcodes.fastq.gz\n",
      "Resolving data.qiime2.org (data.qiime2.org)... 54.200.1.12\n",
      "Connecting to data.qiime2.org (data.qiime2.org)|54.200.1.12|:443... connected.\n",
      "HTTP request sent, awaiting response... 302 FOUND\n",
      "Location: https://s3-us-west-2.amazonaws.com/qiime2-data/2024.5/tutorials/moving-pictures/emp-single-end-sequences/barcodes.fastq.gz [following]\n",
      "--2024-09-17 12:40:38--  https://s3-us-west-2.amazonaws.com/qiime2-data/2024.5/tutorials/moving-pictures/emp-single-end-sequences/barcodes.fastq.gz\n",
      "Resolving s3-us-west-2.amazonaws.com (s3-us-west-2.amazonaws.com)... 52.92.241.160, 52.218.225.136, 52.92.184.8, ...\n",
      "Connecting to s3-us-west-2.amazonaws.com (s3-us-west-2.amazonaws.com)|52.92.241.160|:443... connected.\n",
      "HTTP request sent, awaiting response... 200 OK\n",
      "Length: 3783785 (3.6M) [application/x-gzip]\n",
      "Saving to: ‘emp-single-end-sequences/barcodes.fastq.gz’\n",
      "\n",
      "emp-single-end-sequ 100%[===================>]   3.61M  1.41MB/s    in 2.6s    \n",
      "\n",
      "2024-09-17 12:40:42 (1.41 MB/s) - ‘emp-single-end-sequences/barcodes.fastq.gz’ saved [3783785/3783785]\n",
      "\n",
      "--2024-09-17 12:40:43--  https://data.qiime2.org/2024.5/tutorials/moving-pictures/emp-single-end-sequences/sequences.fastq.gz\n",
      "Resolving data.qiime2.org (data.qiime2.org)... 54.200.1.12\n",
      "Connecting to data.qiime2.org (data.qiime2.org)|54.200.1.12|:443... connected.\n",
      "HTTP request sent, awaiting response... 302 FOUND\n",
      "Location: https://s3-us-west-2.amazonaws.com/qiime2-data/2024.5/tutorials/moving-pictures/emp-single-end-sequences/sequences.fastq.gz [following]\n",
      "--2024-09-17 12:40:43--  https://s3-us-west-2.amazonaws.com/qiime2-data/2024.5/tutorials/moving-pictures/emp-single-end-sequences/sequences.fastq.gz\n",
      "Resolving s3-us-west-2.amazonaws.com (s3-us-west-2.amazonaws.com)... 52.92.241.160, 52.218.225.136, 52.92.184.8, ...\n",
      "Connecting to s3-us-west-2.amazonaws.com (s3-us-west-2.amazonaws.com)|52.92.241.160|:443... connected.\n",
      "HTTP request sent, awaiting response... 200 OK\n",
      "Length: 25303756 (24M) [binary/octet-stream]\n",
      "Saving to: ‘emp-single-end-sequences/sequences.fastq.gz’\n",
      "\n",
      "emp-single-end-sequ 100%[===================>]  24.13M  1.94MB/s    in 18s     \n",
      "\n",
      "2024-09-17 12:41:02 (1.33 MB/s) - ‘emp-single-end-sequences/sequences.fastq.gz’ saved [25303756/25303756]\n",
      "\n"
     ]
    }
   ],
   "source": [
    "!wget -O sample-metadata.tsv https://data.qiime2.org/2024.5/tutorials/moving-pictures/sample_metadata.tsv\n",
    "!mkdir -p emp-single-end-sequences\n",
    "!wget -O emp-single-end-sequences/barcodes.fastq.gz https://data.qiime2.org/2024.5/tutorials/moving-pictures/emp-single-end-sequences/barcodes.fastq.gz\n",
    "!wget -O emp-single-end-sequences/sequences.fastq.gz https://data.qiime2.org/2024.5/tutorials/moving-pictures/emp-single-end-sequences/sequences.fastq.gz\n"
   ]
  },
  {
   "cell_type": "code",
   "execution_count": 19,
   "metadata": {},
   "outputs": [
    {
     "name": "stdout",
     "output_type": "stream",
     "text": [
      "\u001b[32mImported emp-single-end-sequences as EMPSingleEndDirFmt to emp-single-end-sequences.qza\u001b[0m\n",
      "\u001b[0m"
     ]
    }
   ],
   "source": [
    "!qiime tools import \\\n",
    "  --type EMPSingleEndSequences \\\n",
    "  --input-path emp-single-end-sequences \\\n",
    "  --output-path emp-single-end-sequences.qza\n"
   ]
  },
  {
   "cell_type": "code",
   "execution_count": 20,
   "metadata": {},
   "outputs": [
    {
     "name": "stdout",
     "output_type": "stream",
     "text": [
      "\u001b[32mSaved SampleData[SequencesWithQuality] to: demux.qza\u001b[0m\n",
      "\u001b[32mSaved ErrorCorrectionDetails to: demux-details.qza\u001b[0m\n",
      "\u001b[0m"
     ]
    }
   ],
   "source": [
    "!qiime demux emp-single \\\n",
    "  --i-seqs emp-single-end-sequences.qza \\\n",
    "  --m-barcodes-file sample-metadata.tsv \\\n",
    "  --m-barcodes-column barcode-sequence \\\n",
    "  --o-per-sample-sequences demux.qza \\\n",
    "  --o-error-correction-details demux-details.qza\n"
   ]
  },
  {
   "cell_type": "code",
   "execution_count": 21,
   "metadata": {},
   "outputs": [
    {
     "name": "stdout",
     "output_type": "stream",
     "text": [
      "\u001b[32mSaved Visualization to: demux.qzv\u001b[0m\n",
      "\u001b[0m"
     ]
    }
   ],
   "source": [
    "!qiime demux summarize \\\n",
    "  --i-data demux.qza \\\n",
    "  --o-visualization demux.qzv\n"
   ]
  },
  {
   "cell_type": "code",
   "execution_count": 22,
   "metadata": {},
   "outputs": [
    {
     "name": "stdout",
     "output_type": "stream",
     "text": [
      "Press the 'q' key, Control-C, or Control-D to quit. This view may no longer be accessible or work correctly after quitting.\n",
      "Press the 'q' key, Control-C, or Control-D to quit. This view may no longer be accessible or work correctly after quitting."
     ]
    }
   ],
   "source": [
    "!qiime tools view demux.qzv\n"
   ]
  },
  {
   "cell_type": "code",
   "execution_count": 25,
   "metadata": {},
   "outputs": [],
   "source": [
    "import qiime2\n",
    "from qiime2.plugins import demux, feature_table, diversity, taxa, metadata\n",
    "\n",
    "# Display visualizations\n",
    "from qiime2 import Visualization\n"
   ]
  },
  {
   "cell_type": "code",
   "execution_count": 26,
   "metadata": {},
   "outputs": [],
   "source": [
    "demuxed_seqs = qiime2.Artifact.load('demux.qza')\n",
    "metadata_file = qiime2.Metadata.load('sample-metadata.tsv')\n"
   ]
  },
  {
   "cell_type": "code",
   "execution_count": 27,
   "metadata": {},
   "outputs": [
    {
     "name": "stderr",
     "output_type": "stream",
     "text": [
      "/opt/homebrew/Caskroom/miniforge/base/envs/qiime2-amplicon-2024.5/lib/python3.9/site-packages/seaborn/_oldcore.py:1119: FutureWarning: use_inf_as_na option is deprecated and will be removed in a future version. Convert inf values to NaN before operating instead.\n",
      "  with pd.option_context('mode.use_inf_as_na', True):\n",
      "/opt/homebrew/Caskroom/miniforge/base/envs/qiime2-amplicon-2024.5/lib/python3.9/site-packages/q2_demux/_summarize/_visualizer.py:180: FutureWarning: The behavior of DataFrame concatenation with empty or all-NA entries is deprecated. In a future version, this will no longer exclude empty or all-NA columns when determining the result dtypes. To retain the old behavior, exclude the relevant entries before the concat operation.\n",
      "  context['result_data'] = pd.concat([context['result_data'], df])\n",
      "/opt/homebrew/Caskroom/miniforge/base/envs/qiime2-amplicon-2024.5/lib/python3.9/site-packages/q2_demux/_summarize/_visualizer.py:74: FutureWarning: Setting an item of incompatible dtype is deprecated and will raise an error in a future version of pandas. Value '['152 nts' '152 nts' '152 nts' '152 nts' '152 nts' '152 nts' '152 nts']' has dtype incompatible with float64, please explicitly cast to a compatible dtype first.\n",
      "  stats[stats.index != 'count'] = \\\n"
     ]
    },
    {
     "data": {
      "text/html": [
       "<div><img onload=\"(function(div, url){\n",
       "if (typeof require !== 'undefined') {\n",
       "    var baseURL = require.toUrl('').split('/').slice(0, -2).join('/');\n",
       "} else {\n",
       "    var baseURL = JSON.parse(\n",
       "        document.getElementById('jupyter-config-data').innerHTML\n",
       "    ).baseUrl.slice(0, -1);\n",
       "}\n",
       "url = baseURL + url;\n",
       "fetch(url).then(function(res) {\n",
       "    if (res.status === 404) {\n",
       "        div.innerHTML = 'Install QIIME 2 Jupyter extension with:<br />' +\n",
       "                        '<code>jupyter serverextension enable --py qiime2' +\n",
       "                        ' --sys-prefix</code><br />then restart your server.' +\n",
       "                        '<br /><br />(Interactive output not available on ' +\n",
       "                        'static notebook viewer services like nbviewer.)';\n",
       "    } else if (res.status === 409) {\n",
       "        div.innerHTML = 'Visualization no longer in scope. Re-run this cell' +\n",
       "                        ' to see the visualization.';\n",
       "    } else if (res.ok) {\n",
       "        url = res.url;\n",
       "        div.innerHTML = '<iframe src=\\'' + url + '\\' style=\\'' +\n",
       "                        'width: 100%; height: 700px; border: 0;\\'>' +\n",
       "                        '</iframe><hr />Open in a: <a href=\\'' + url + '\\'' +\n",
       "                        ' target=\\'_blank\\'>new window</a>'\n",
       "    } else {\n",
       "        div.innerHTML = 'Something has gone wrong. Check notebook server for' +\n",
       "                        ' errors.';\n",
       "    }\n",
       "});\n",
       "})(this.parentElement, '/qiime2/redirect?location=/var/folders/fh/v5sckxh160z90hwgwbv78jlc0000gn/T/qiime2/chihiro/data/4b6bb9a6-a5f9-4740-a258-83d27d97c3c8')\" src=\"data:image/gif;base64,R0lGODlhAQABAIAAAP///wAAACH5BAEAAAAALAAAAAABAAEAAAICRAEAOw==\" /></div>"
      ],
      "text/plain": [
       "<visualization: Visualization uuid: 4b6bb9a6-a5f9-4740-a258-83d27d97c3c8>"
      ]
     },
     "execution_count": 27,
     "metadata": {},
     "output_type": "execute_result"
    }
   ],
   "source": [
    "demux_summary = demux.visualizers.summarize(demuxed_seqs)\n",
    "demux_summary.visualization\n"
   ]
  },
  {
   "cell_type": "code",
   "execution_count": 30,
   "metadata": {},
   "outputs": [
    {
     "data": {
      "text/plain": [
       "'demux_summary.qzv'"
      ]
     },
     "execution_count": 30,
     "metadata": {},
     "output_type": "execute_result"
    }
   ],
   "source": [
    "demux_summary.visualization.save('demux_summary.qzv')\n"
   ]
  }
 ],
 "metadata": {
  "kernelspec": {
   "display_name": "qiime2-amplicon-2024.5",
   "language": "python",
   "name": "python3"
  },
  "language_info": {
   "codemirror_mode": {
    "name": "ipython",
    "version": 3
   },
   "file_extension": ".py",
   "mimetype": "text/x-python",
   "name": "python",
   "nbconvert_exporter": "python",
   "pygments_lexer": "ipython3",
   "version": "3.9.19"
  }
 },
 "nbformat": 4,
 "nbformat_minor": 2
}
