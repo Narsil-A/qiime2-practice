{
 "cells": [
  {
   "cell_type": "markdown",
   "metadata": {},
   "source": [
    "# Exploring the tutorial metadata"
   ]
  },
  {
   "cell_type": "markdown",
   "metadata": {},
   "source": [
    "### Access the study metadata\n",
    "\n",
    "### In this chapter we’ll begin our work with QIIME 2 and the tutorial data. We’ll start by downloading the metadata, generating a summary of it, and exploring that summary."
   ]
  },
  {
   "cell_type": "markdown",
   "metadata": {},
   "source": [
    "### First, download the metadata."
   ]
  },
  {
   "cell_type": "code",
   "execution_count": 1,
   "metadata": {},
   "outputs": [],
   "source": [
    "from qiime2 import Metadata\n",
    "from urllib import request\n",
    "\n",
    "url = 'https://docs.qiime2.org/jupyterbooks/cancer-microbiome-intervention-tutorial/data/020-tutorial-upstream/020-metadata/sample-metadata.tsv'\n",
    "fn = 'sample-metadata.tsv'\n",
    "request.urlretrieve(url, fn)\n",
    "sample_metadata_md = Metadata.load(fn)"
   ]
  },
  {
   "cell_type": "markdown",
   "metadata": {},
   "source": [
    "# View the metadata\n",
    "\n",
    "\n",
    "### Next, we’ll get a view of the study metadata as QIIME 2 sees it. This will allow you to assess whether the metadata that QIIME 2 is using is as you expect. You can do this using the tabulate action in QIIME 2’s q2-metadata plugin as follows."
   ]
  },
  {
   "cell_type": "code",
   "execution_count": 2,
   "metadata": {},
   "outputs": [
    {
     "name": "stderr",
     "output_type": "stream",
     "text": [
      "/opt/homebrew/Caskroom/miniforge/base/envs/qiime2-amplicon-2024.5/lib/python3.9/site-packages/qiime2/metadata/metadata.py:610: FutureWarning: Setting an item of incompatible dtype is deprecated and will raise an error in a future version of pandas. Value '[nan nan nan ... nan nan nan]' has dtype incompatible with float64, please explicitly cast to a compatible dtype first.\n",
      "  series[missing.index] = missing\n",
      "/opt/homebrew/Caskroom/miniforge/base/envs/qiime2-amplicon-2024.5/lib/python3.9/site-packages/qiime2/metadata/metadata.py:610: FutureWarning: Setting an item of incompatible dtype is deprecated and will raise an error in a future version of pandas. Value '[nan nan nan ... nan nan nan]' has dtype incompatible with float64, please explicitly cast to a compatible dtype first.\n",
      "  series[missing.index] = missing\n",
      "/opt/homebrew/Caskroom/miniforge/base/envs/qiime2-amplicon-2024.5/lib/python3.9/site-packages/qiime2/metadata/metadata.py:610: FutureWarning: Setting an item of incompatible dtype is deprecated and will raise an error in a future version of pandas. Value '[nan nan nan ... nan nan nan]' has dtype incompatible with float64, please explicitly cast to a compatible dtype first.\n",
      "  series[missing.index] = missing\n",
      "/opt/homebrew/Caskroom/miniforge/base/envs/qiime2-amplicon-2024.5/lib/python3.9/site-packages/qiime2/metadata/metadata.py:610: FutureWarning: Setting an item of incompatible dtype is deprecated and will raise an error in a future version of pandas. Value '[nan nan nan ... nan nan nan]' has dtype incompatible with float64, please explicitly cast to a compatible dtype first.\n",
      "  series[missing.index] = missing\n",
      "/opt/homebrew/Caskroom/miniforge/base/envs/qiime2-amplicon-2024.5/lib/python3.9/site-packages/qiime2/metadata/metadata.py:610: FutureWarning: Setting an item of incompatible dtype is deprecated and will raise an error in a future version of pandas. Value '[nan nan nan ... nan nan nan]' has dtype incompatible with float64, please explicitly cast to a compatible dtype first.\n",
      "  series[missing.index] = missing\n",
      "/opt/homebrew/Caskroom/miniforge/base/envs/qiime2-amplicon-2024.5/lib/python3.9/site-packages/qiime2/metadata/metadata.py:610: FutureWarning: Setting an item of incompatible dtype is deprecated and will raise an error in a future version of pandas. Value '[nan nan nan ... nan nan nan]' has dtype incompatible with float64, please explicitly cast to a compatible dtype first.\n",
      "  series[missing.index] = missing\n",
      "/opt/homebrew/Caskroom/miniforge/base/envs/qiime2-amplicon-2024.5/lib/python3.9/site-packages/qiime2/metadata/metadata.py:610: FutureWarning: Setting an item of incompatible dtype is deprecated and will raise an error in a future version of pandas. Value '[nan nan nan ... nan nan nan]' has dtype incompatible with float64, please explicitly cast to a compatible dtype first.\n",
      "  series[missing.index] = missing\n",
      "/opt/homebrew/Caskroom/miniforge/base/envs/qiime2-amplicon-2024.5/lib/python3.9/site-packages/qiime2/metadata/metadata.py:610: FutureWarning: Setting an item of incompatible dtype is deprecated and will raise an error in a future version of pandas. Value '[nan nan nan ... nan nan nan]' has dtype incompatible with float64, please explicitly cast to a compatible dtype first.\n",
      "  series[missing.index] = missing\n",
      "/opt/homebrew/Caskroom/miniforge/base/envs/qiime2-amplicon-2024.5/lib/python3.9/site-packages/qiime2/metadata/metadata.py:610: FutureWarning: Setting an item of incompatible dtype is deprecated and will raise an error in a future version of pandas. Value '[nan nan nan ... nan nan nan]' has dtype incompatible with float64, please explicitly cast to a compatible dtype first.\n",
      "  series[missing.index] = missing\n",
      "/opt/homebrew/Caskroom/miniforge/base/envs/qiime2-amplicon-2024.5/lib/python3.9/site-packages/qiime2/metadata/metadata.py:610: FutureWarning: Setting an item of incompatible dtype is deprecated and will raise an error in a future version of pandas. Value '[nan nan nan ... nan nan nan]' has dtype incompatible with float64, please explicitly cast to a compatible dtype first.\n",
      "  series[missing.index] = missing\n",
      "/opt/homebrew/Caskroom/miniforge/base/envs/qiime2-amplicon-2024.5/lib/python3.9/site-packages/qiime2/metadata/metadata.py:610: FutureWarning: Setting an item of incompatible dtype is deprecated and will raise an error in a future version of pandas. Value '[nan nan nan ... nan nan nan]' has dtype incompatible with float64, please explicitly cast to a compatible dtype first.\n",
      "  series[missing.index] = missing\n",
      "/opt/homebrew/Caskroom/miniforge/base/envs/qiime2-amplicon-2024.5/lib/python3.9/site-packages/qiime2/metadata/metadata.py:610: FutureWarning: Setting an item of incompatible dtype is deprecated and will raise an error in a future version of pandas. Value '[nan nan nan ... nan nan nan]' has dtype incompatible with float64, please explicitly cast to a compatible dtype first.\n",
      "  series[missing.index] = missing\n",
      "/opt/homebrew/Caskroom/miniforge/base/envs/qiime2-amplicon-2024.5/lib/python3.9/site-packages/qiime2/metadata/metadata.py:610: FutureWarning: Setting an item of incompatible dtype is deprecated and will raise an error in a future version of pandas. Value '[nan nan nan ... nan nan nan]' has dtype incompatible with float64, please explicitly cast to a compatible dtype first.\n",
      "  series[missing.index] = missing\n",
      "/opt/homebrew/Caskroom/miniforge/base/envs/qiime2-amplicon-2024.5/lib/python3.9/site-packages/qiime2/metadata/metadata.py:610: FutureWarning: Setting an item of incompatible dtype is deprecated and will raise an error in a future version of pandas. Value '[nan nan nan ... nan nan nan]' has dtype incompatible with float64, please explicitly cast to a compatible dtype first.\n",
      "  series[missing.index] = missing\n",
      "/opt/homebrew/Caskroom/miniforge/base/envs/qiime2-amplicon-2024.5/lib/python3.9/site-packages/qiime2/metadata/metadata.py:610: FutureWarning: Setting an item of incompatible dtype is deprecated and will raise an error in a future version of pandas. Value '[nan nan nan ... nan nan nan]' has dtype incompatible with float64, please explicitly cast to a compatible dtype first.\n",
      "  series[missing.index] = missing\n",
      "/opt/homebrew/Caskroom/miniforge/base/envs/qiime2-amplicon-2024.5/lib/python3.9/site-packages/qiime2/metadata/metadata.py:610: FutureWarning: Setting an item of incompatible dtype is deprecated and will raise an error in a future version of pandas. Value '[nan nan nan ... nan nan nan]' has dtype incompatible with float64, please explicitly cast to a compatible dtype first.\n",
      "  series[missing.index] = missing\n"
     ]
    }
   ],
   "source": [
    "import qiime2.plugins.metadata.actions as metadata_actions\n",
    "\n",
    "metadata_summ_1_viz, = metadata_actions.tabulate(\n",
    "    input=sample_metadata_md,\n",
    ")"
   ]
  },
  {
   "cell_type": "markdown",
   "metadata": {},
   "source": [
    "# Importing demultiplexed sequence data\n",
    "\n",
    "### In this section of the tutorial, we’ll import raw fastq data that is already demultiplexed (i.e., separated into per-sample fastq files) into a QIIME 2 artifact."
   ]
  }
 ],
 "metadata": {
  "kernelspec": {
   "display_name": "qiime2-amplicon-2024.5",
   "language": "python",
   "name": "python3"
  },
  "language_info": {
   "codemirror_mode": {
    "name": "ipython",
    "version": 3
   },
   "file_extension": ".py",
   "mimetype": "text/x-python",
   "name": "python",
   "nbconvert_exporter": "python",
   "pygments_lexer": "ipython3",
   "version": "3.9.19"
  }
 },
 "nbformat": 4,
 "nbformat_minor": 2
}
